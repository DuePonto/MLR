{
 "cells": [
  {
   "attachments": {},
   "cell_type": "markdown",
   "metadata": {},
   "source": [
    "# Лабораторная работа 3\n",
    "## Фильтр частиц\n",
    "### Описание системы\n",
    "\n",
    "В квадратной площадке длиной 100 метров находится мобильный робот. В углах площадки установлены радиомаяки. Робот может измерять расстояние до маяков. Погрешность измерений описывается нормальным распределением с нулевым математически ожиданием и погрешностью $\\sigma = 15$. Известно, что начальное положение робота находится в диапазоне координат (0 -100, 0- 100). Начальная ориентация робота составляет $0 \\pm 2$ градуса.\n",
    "\n",
    "Робот функционирует следующим образом:\n",
    "\n",
    "- Принимает от оператора требуемый угол поворота и дальность перемещения;\n",
    "- Поворачивается на заданный угол;\n",
    "- Проезжает заданную дистанцию;\n",
    "- Измеряет расстояние до маяков;\n",
    "- Рассчитывает свое положение.\n",
    "\n",
    "Поворот робота на заданный угол происходит с нормально распределенной погрешностью с нулевым математическим ожиданием и средневадратическим отклонением $\\sigma_{\\theta} = 2$. Перемещение робота на заданную дистанцию происходит с нормально распределенной погрешностью с нулевым математическим ожиданием и средневадратическим отклонением $\\sigma_{l} = 15$.  Требуется построить фильтр частиц для повышения точности локализации робота."
   ]
  },
  {
   "attachments": {},
   "cell_type": "markdown",
   "metadata": {},
   "source": [
    "### Задание\n",
    "\n",
    "- Задать начальное положение робота и средневадратические отклонения;\n",
    "- Задать не менее 5 команд на перемещение робота;\n",
    "- Построить траеткторию движения робота с учетом погрешностей;\n",
    "- Построить фильтр частиц для робота;\n",
    "- Построить траеткорию движения робота, положения частиц и оценку положения робота после выполнения каждой из команд;\n",
    "- Выполнить предыдущие пункты для трех различных начальных положений, среднеквадратических отклонений, количества частиц и траекторий движения."
   ]
  },
  {
   "attachments": {},
   "cell_type": "markdown",
   "metadata": {},
   "source": [
    "### Решение"
   ]
  },
  {
   "attachments": {},
   "cell_type": "markdown",
   "metadata": {},
   "source": [
    "#### 0. Импорт библиотек и создание класса для робота"
   ]
  },
  {
   "cell_type": "code",
   "execution_count": 462,
   "metadata": {},
   "outputs": [],
   "source": [
    "import numpy as np\n",
    "import matplotlib.pyplot as plt"
   ]
  },
  {
   "cell_type": "code",
   "execution_count": 463,
   "metadata": {},
   "outputs": [],
   "source": [
    "# Класс робота\n",
    "\n",
    "class Robot:\n",
    "    _true_pos = np.zeros([2,1])\n",
    "    _calc_pos = np.zeros([2,1])\n",
    "    _ang = 0\n",
    "    \n",
    "    _beacon_meas = np.zeros([4,1])\n",
    "    _x_max = 100\n",
    "    _x_min = 0 \n",
    "    _y_max = 100\n",
    "    _y_min = 0\n",
    "    \n",
    "    _sigma_move = 0\n",
    "    _sigma_turn = 0\n",
    "    _sigma_meas = 0\n",
    "    \n",
    "    \n",
    "    def __init__(self, x, y, ang, sigma_move, sigma_turn, sigma_meas) -> None:\n",
    "        # Истинное положение робота и угол\n",
    "        self._true_pos = np.array([[x], \n",
    "                                   [y]], np.float_)\n",
    "        self._calc_pos = np.array([[0], \n",
    "                                   [0]], np.float_)\n",
    "        self._ang = ang\n",
    "        # среднеквадратическое отклонение при перемещении\n",
    "        self._sigma_move = sigma_move\n",
    "        # среднеквадратическое отклонение при повороте\n",
    "        self._sigma_turn = sigma_turn\n",
    "        \n",
    "        # Измерение расстояния до маяка\n",
    "        self._beacon_meas = np.array([[0],  # 1 маяк\n",
    "                                      [0],  # 2 маяк\n",
    "                                      [0],  # 3 маяк\n",
    "                                      [0]]) # 4 маяк\n",
    "        # среднеквадратическое отклонение при измерении\n",
    "        self._sigma_meas = sigma_meas\n",
    "        \n",
    "        \n",
    "    def turn(self, ang):\n",
    "        self._ang += ang + np.deg2rad(np.random.normal(0, self._sigma_turn))\n",
    "        \n",
    "        return self._ang\n",
    "        \n",
    "        \n",
    "    def move(self, path_len):\n",
    "        true_len = np.float_(path_len + np.random.normal(0, self._sigma_move))\n",
    "        self._true_pos[0] += true_len * np.cos(self._ang)\n",
    "        self._true_pos[1] += true_len * np.sin(self._ang)\n",
    "        \n",
    "        # Проверка на выход за границы поля\n",
    "        # X\n",
    "        if self._true_pos[0] > self._x_max:\n",
    "            self._true_pos[0] = self._x_max\n",
    "        elif self._true_pos[0] < self._x_min:\n",
    "            self._true_pos[0] = self._x_min\n",
    "        # Y\n",
    "        if self._true_pos[1] > self._y_max:\n",
    "            self._true_pos[1] = self._y_max\n",
    "        elif self._true_pos[1] < self._y_min:\n",
    "            self._true_pos[1] = self._y_min\n",
    "        \n",
    "        return self._true_pos\n",
    "    \n",
    "    \n",
    "    def make_measurment(self, beacons):\n",
    "        #  b3(0,y3)*       * b4 (x4, y4)    # Расположегие маяков\n",
    "        #                                   #\n",
    "        #                                   #\n",
    "        #  b1(0,0) *       * b2 (x2, 0)     #\n",
    "        meas = np.zeros([4,1])\n",
    "        for i in range(len(meas)):\n",
    "            meas[i] = np.sqrt((beacons[i][0] - self._true_pos[0])**2 + (beacons[i][1] - self._true_pos[1])**2) + np.random.normal(0, self._sigma_meas)\n",
    "        self._beacon_meas = meas\n",
    "        \n",
    "        return self._beacon_meas\n",
    "    \n",
    "    \n",
    "    def calc_pos(self, beacons):\n",
    "        # Вычисление положение при помощи трилатерации по двум маякам\n",
    "        x_calc = (self._beacon_meas[0]**2 - self._beacon_meas[1]**2 + beacons[1][0]**2)/(2*beacons[1][0])\n",
    "        y_calc = (self._beacon_meas[0]**2 - self._beacon_meas[2]**2 + beacons[2][1]**2)/(2*beacons[2][1])\n",
    "        self._calc_pos = np.array([[x_calc],\n",
    "                                   [y_calc]])\n",
    "        \n",
    "        return self._calc_pos\n",
    "        \n",
    "        \n",
    "    def get_true_pos(self):\n",
    "        return self._true_pos\n",
    "    \n",
    "    \n",
    "    def get_calc_pos(self):\n",
    "        return self._calc_pos\n",
    "    \n",
    "    \n",
    "    def get_ang(self):\n",
    "        return np.rad2deg(self._ang)"
   ]
  },
  {
   "attachments": {},
   "cell_type": "markdown",
   "metadata": {},
   "source": [
    "#### 1. Задать начальное положение робота и среднеквадратические отклонения"
   ]
  },
  {
   "cell_type": "code",
   "execution_count": 464,
   "metadata": {},
   "outputs": [],
   "source": [
    "# Характеристики робота\n",
    "x_0 = 20\n",
    "y_0 = 40\n",
    "ang_0 = (np.random.rand() - 0.5)*2\n",
    "\n",
    "sigma_move = 15\n",
    "sigma_turn = 2\n",
    "sigma_meas = 15\n",
    "\n",
    "# Координаты маяков\n",
    "# Расположегие маяков\n",
    "\n",
    "    #  b3(0,y3)*       * b4 (x4, y4)    # \n",
    "    #                                   #\n",
    "    #                                   #\n",
    "    #  b1(0,0) *       * b2 (x2, 0)     #\n",
    "    \n",
    "beacons = np.array([[0,  0],\n",
    "                    [100,0],\n",
    "                    [0,  100],\n",
    "                    [100,100]])\n",
    "\n",
    "\n",
    "bot = Robot(x_0, y_0, ang_0, sigma_move, sigma_turn, sigma_meas)"
   ]
  },
  {
   "cell_type": "code",
   "execution_count": 465,
   "metadata": {},
   "outputs": [
    {
     "name": "stdout",
     "output_type": "stream",
     "text": [
      "ang =  -26.891198105971945\n",
      "true_pos =  [[20.]\n",
      " [40.]]\n",
      "calc_pos =  [[0.]\n",
      " [0.]]\n"
     ]
    }
   ],
   "source": [
    "#test\n",
    "print('ang = ', bot.get_ang())\n",
    "print('true_pos = ', bot.get_true_pos())\n",
    "print('calc_pos = ', bot.get_calc_pos())"
   ]
  },
  {
   "cell_type": "code",
   "execution_count": 466,
   "metadata": {},
   "outputs": [
    {
     "data": {
      "text/plain": [
       "array([[29.10995767],\n",
       "       [35.38001425]])"
      ]
     },
     "execution_count": 466,
     "metadata": {},
     "output_type": "execute_result"
    }
   ],
   "source": [
    "# test \n",
    "bot.move(10)"
   ]
  },
  {
   "cell_type": "code",
   "execution_count": 467,
   "metadata": {},
   "outputs": [
    {
     "data": {
      "text/plain": [
       "0.3007307629572452"
      ]
     },
     "execution_count": 467,
     "metadata": {},
     "output_type": "execute_result"
    }
   ],
   "source": [
    "#test\n",
    "bot.turn(np.pi/4)"
   ]
  },
  {
   "attachments": {},
   "cell_type": "markdown",
   "metadata": {},
   "source": [
    "#### 2. Задать не менее 5 команд на перемещение робота"
   ]
  },
  {
   "cell_type": "code",
   "execution_count": 468,
   "metadata": {},
   "outputs": [],
   "source": [
    "# Массивы команд перемещения\n",
    "cmnd = np.array([[10, 0],\n",
    "                 [20, 0],\n",
    "                 [10, 0],\n",
    "                 [10, 0],\n",
    "                 [10, 0]])\n",
    "\n",
    "\n",
    "true_pos_massive = np.zeros([5,2])\n",
    "calc_pos_massive = np.zeros([5,2])\n",
    "massive_y = []\n",
    "t = []\n",
    "pos_real_x = 0\n",
    "pos_real_y = 0\n",
    "\n",
    "\n",
    "for i in range(5):\n",
    "    bot.turn(np.pi/2)\n",
    "    bot.move(20)\n",
    "    bot.make_measurment(beacons)\n",
    "    bot.calc_pos(beacons)\n",
    "    \n",
    "    \n",
    "    true_pos_massive[i][:] = bot.get_true_pos().T\n",
    "    calc_pos_massive[i][:] = bot.get_calc_pos().T\n",
    "    bot.get_calc_pos\n",
    "    t.append(i)"
   ]
  },
  {
   "attachments": {},
   "cell_type": "markdown",
   "metadata": {},
   "source": [
    "#### 3. Построить траеткторию движения робота с учетом погрешностей"
   ]
  },
  {
   "cell_type": "code",
   "execution_count": 469,
   "metadata": {},
   "outputs": [
    {
     "data": {
      "text/plain": [
       "(0.0, 100.0)"
      ]
     },
     "execution_count": 469,
     "metadata": {},
     "output_type": "execute_result"
    },
    {
     "data": {
      "image/png": "[encoded data removed]",
      "text/plain": [
       "<Figure size 640x480 with 1 Axes>"
      ]
     },
     "metadata": {},
     "output_type": "display_data"
    }
   ],
   "source": [
    "\n",
    "plt.plot(true_pos_massive[:,0],true_pos_massive[:,1])\n",
    "plt.plot(calc_pos_massive[:,0],calc_pos_massive[:,1])\n",
    "plt.ylim([0,100])\n",
    "plt.xlim([0,100])\n",
    "#print(massive_x)"
   ]
  }
 ],
 "metadata": {
  "kernelspec": {
   "display_name": "Python 3",
   "language": "python",
   "name": "python3"
  },
  "language_info": {
   "codemirror_mode": {
    "name": "ipython",
    "version": 3
   },
   "file_extension": ".py",
   "mimetype": "text/x-python",
   "name": "python",
   "nbconvert_exporter": "python",
   "pygments_lexer": "ipython3",
   "version": "3.10.6"
  },
  "orig_nbformat": 4,
  "vscode": {
   "interpreter": {
    "hash": "fbe58ca63fe33f9eeae9e71d10368d2b4a57f2b1b395836210cc60d362c66949"
   }
  }
 },
 "nbformat": 4,
 "nbformat_minor": 2
}
