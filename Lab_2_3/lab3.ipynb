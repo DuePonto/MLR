{
 "cells": [
  {
   "attachments": {},
   "cell_type": "markdown",
   "metadata": {},
   "source": [
    "# Лабораторная работа 3\n",
    "## Фильтр частиц\n",
    "### Описание системы\n",
    "\n",
    "В квадратной площадке длиной 100 метров находится мобильный робот. В углах площадки установлены радиомаяки. Робот может измерять расстояние до маяков. Погрешность измерений описывается нормальным распределением с нулевым математически ожиданием и погрешностью $\\sigma = 15$. Известно, что начальное положение робота находится в диапазоне координат (0 -100, 0- 100). Начальная ориентация робота составляет $0 \\pm 2$ градуса.\n",
    "\n",
    "Робот функционирует следующим образом:\n",
    "\n",
    "- Принимает от оператора требуемый угол поворота и дальность перемещения;\n",
    "- Поворачивается на заданный угол;\n",
    "- Проезжает заданную дистанцию;\n",
    "- Измеряет расстояние до маяков;\n",
    "- Рассчитывает свое положение.\n",
    "\n",
    "Поворот робота на заданный угол происходит с нормально распределенной погрешностью с нулевым математическим ожиданием и средневадратическим отклонением $\\sigma_{\\theta} = 2$. Перемещение робота на заданную дистанцию происходит с нормально распределенной погрешностью с нулевым математическим ожиданием и средневадратическим отклонением $\\sigma_{l} = 15$.  Требуется построить фильтр частиц для повышения точности локализации робота."
   ]
  },
  {
   "attachments": {},
   "cell_type": "markdown",
   "metadata": {},
   "source": [
    "### Задание\n",
    "\n",
    "- Задать начальное положение робота и средневадратические отклонения;\n",
    "- Задать не менее 5 команд на перемещение робота;\n",
    "- Построить траеткторию движения робота с учетом погрешностей;\n",
    "- Построить фильтр частиц для робота;\n",
    "- Построить траеткорию движения робота, положения частиц и оценку положения робота после выполнения каждой из команд;\n",
    "- Выполнить предыдущие пункты для трех различных начальных положений, среднеквадратических отклонений, количества частиц и траекторий движения."
   ]
  },
  {
   "attachments": {},
   "cell_type": "markdown",
   "metadata": {},
   "source": [
    "### 1. Задать начальное положение робота и среднеквадратические отклонения"
   ]
  },
  {
   "cell_type": "code",
   "execution_count": 1,
   "metadata": {},
   "outputs": [],
   "source": [
    "import numpy as np\n",
    "import matplotlib.pyplot as plt"
   ]
  },
  {
   "cell_type": "code",
   "execution_count": 6,
   "metadata": {},
   "outputs": [
    {
     "ename": "SyntaxError",
     "evalue": "incomplete input (2046435263.py, line 34)",
     "output_type": "error",
     "traceback": [
      "\u001b[0;36m  Cell \u001b[0;32mIn[6], line 34\u001b[0;36m\u001b[0m\n\u001b[0;31m    \u001b[0m\n\u001b[0m    ^\u001b[0m\n\u001b[0;31mSyntaxError\u001b[0m\u001b[0;31m:\u001b[0m incomplete input\n"
     ]
    }
   ],
   "source": [
    "# Класс робота\n",
    "\n",
    "class Robot:\n",
    "    def __init__(self, x, y, ang, sigma_move, sigma_turn, sigma_meas) -> None:\n",
    "        # Истинное положение робота и угол\n",
    "        self._true_pos = np.array([[x], \n",
    "                                   [y]])\n",
    "        self._ang = ang\n",
    "        # среднеквадратическое отклонение при перемещении\n",
    "        self._sigma_move = sigma_move\n",
    "        # среднеквадратическое отклонение при повороте\n",
    "        self._sigma_turn = sigma_turn\n",
    "        \n",
    "        # Измерение расстояния до маяка\n",
    "        self._beacon_meas = np.array([[0],  # 1 маяк\n",
    "                                      [0],  # 2 маяк\n",
    "                                      [0],  # 3 маяк\n",
    "                                      [0]]) # 4 маяк\n",
    "        # среднеквадратическое отклонение при измерении\n",
    "        self._sigma_meas = sigma_meas\n",
    "            \n",
    "            \n",
    "    def get_pose(self):\n",
    "        return self._true_pos\n",
    "        \n",
    "        \n",
    "    def move(self, path_len, ang):\n",
    "        self._ang += ang\n",
    "        self._true_pos[0] += path_len * np.cos(self._ang) + np.random.normal(0, self._sigma_move)\n",
    "        self._true_pos[1] += path_len * np.sin(self._ang) + np.random.normal(0, self._sigma_move)\n",
    "        \n",
    "        return self._pos\n",
    "    \n",
    "    def make_measurment(self, beacons):\n",
    "        #  b1 *       * b2  # Расположегие маяков\n",
    "        #                   #\n",
    "        #                   #\n",
    "        #  b3 *       * b4  #\n",
    "        \n",
    "        meas1 = "
   ]
  }
 ],
 "metadata": {
  "kernelspec": {
   "display_name": "Python 3",
   "language": "python",
   "name": "python3"
  },
  "language_info": {
   "codemirror_mode": {
    "name": "ipython",
    "version": 3
   },
   "file_extension": ".py",
   "mimetype": "text/x-python",
   "name": "python",
   "nbconvert_exporter": "python",
   "pygments_lexer": "ipython3",
   "version": "3.10.6"
  },
  "orig_nbformat": 4,
  "vscode": {
   "interpreter": {
    "hash": "fbe58ca63fe33f9eeae9e71d10368d2b4a57f2b1b395836210cc60d362c66949"
   }
  }
 },
 "nbformat": 4,
 "nbformat_minor": 2
}
